{
 "cells": [
  {
   "cell_type": "code",
   "execution_count": null,
   "id": "7922482f",
   "metadata": {},
   "outputs": [],
   "source": [
    "import pandas as pd\n",
    "import numpy as np\n",
    "\n",
    "import panel as pn\n",
    "import holoviews as hv\n",
    "from holoviews import opts\n",
    "from holoviews import streams\n",
    "from bokeh.models.formatters import PrintfTickFormatter\n",
    "import seaborn as sns\n",
    "\n",
    "# define a css class for a nice looking border of the plots\n",
    "css = '''\n",
    ".bk.plot-box {\n",
    "  background: #ffffff;\n",
    "  border-radius: 10px;\n",
    "  border: 1px black solid;\n",
    "}\n",
    "'''\n",
    "\n",
    "pn.extension(raw_css=[css])\n",
    "hv.extension('bokeh', width=100)"
   ]
  },
  {
   "cell_type": "markdown",
   "id": "693a4e77",
   "metadata": {},
   "source": [
    "# Loading the Data"
   ]
  },
  {
   "cell_type": "markdown",
   "id": "58f76a2a",
   "metadata": {},
   "source": [
    "## Sea level rise data"
   ]
  },
  {
   "cell_type": "code",
   "execution_count": null,
   "id": "2374c45b",
   "metadata": {},
   "outputs": [],
   "source": [
    "df_slr_n = pd.read_csv('global_slr_netzero.csv', index_col=0)\n",
    "df_slr_c = pd.read_csv('global_slr_zeroCO2.csv', index_col=0)"
   ]
  },
  {
   "cell_type": "markdown",
   "id": "04e7c44a",
   "metadata": {},
   "source": [
    "# Actual App"
   ]
  },
  {
   "cell_type": "markdown",
   "id": "43d3becc",
   "metadata": {},
   "source": [
    "## Define possible values and styles"
   ]
  },
  {
   "cell_type": "code",
   "execution_count": null,
   "id": "9c559935",
   "metadata": {},
   "outputs": [],
   "source": [
    "cmap_years = sns.color_palette(\"flare\", as_cmap=True)\n",
    "peak_years_all_dict = {2020: cmap_years(0),\n",
    "                       2025: cmap_years(1 / 7),\n",
    "                       2030: cmap_years(2 / 7),\n",
    "                       2035: cmap_years(3 / 7),\n",
    "                       2040: cmap_years(4 / 7),\n",
    "                       2045: cmap_years(5 / 7),\n",
    "                       2050: cmap_years(6 / 7)}\n",
    "cmap_dec = sns.color_palette(\"crest\", as_cmap=True)\n",
    "dec_rates_all_dict = {0.3: 'solid', 0.5: 'dashed', 0.7: 'dotted'}\n",
    "\n",
    "peak_years_all = list(peak_years_all_dict)\n",
    "dec_rates_all = list(dec_rates_all_dict)"
   ]
  },
  {
   "cell_type": "markdown",
   "id": "639d6ee2",
   "metadata": {},
   "source": [
    "## menu for selection"
   ]
  },
  {
   "cell_type": "code",
   "execution_count": null,
   "id": "21e59793",
   "metadata": {},
   "outputs": [],
   "source": [
    "# two selection options\n",
    "select_year_slider = pn.widgets.IntSlider(start=2025, end=2301, step=5, value=2100, name='contribution at year')\n",
    "select_slr_slider = pn.widgets.IntSlider(start=0, end=250, step=1, value=150, name='reach slr')\n",
    "menu = pn.WidgetBox('Select year of contribution or SLR limit',\n",
    "                    select_year_slider,\n",
    "                    select_slr_slider)"
   ]
  },
  {
   "cell_type": "markdown",
   "id": "712f84b1",
   "metadata": {},
   "source": [
    "## overview plot of all scenarios"
   ]
  },
  {
   "cell_type": "code",
   "execution_count": null,
   "id": "f49baa91",
   "metadata": {},
   "outputs": [],
   "source": [
    "slr_plot_co2 = None\n",
    "slr_plot_net = None\n",
    "\n",
    "def get_single_slr_curve(time, slr, py, dec):\n",
    "    return hv.Curve({'time': time,\n",
    "                     'SLRG (mm)': slr,\n",
    "                     'Peak Year': py,\n",
    "                     'Decrease Rate': dec},\n",
    "                    kdims=['time'],\n",
    "                    vdims=['SLRG (mm)', 'Peak Year', 'Decrease Rate']\n",
    "                   ).opts(tools=['hover'],\n",
    "                          color=peak_years_all_dict[py],\n",
    "                          line_dash=dec_rates_all_dict[dec],\n",
    "                          responsive=True\n",
    "                          )\n",
    "\n",
    "for szenario in ['netzero', 'zeroCO2']:\n",
    "    for py in peak_years_all:\n",
    "        for decr in dec_rates_all:\n",
    "            key = f'{szenario}_py{py}_fac1.0_decr{decr}'\n",
    "            \n",
    "            if szenario == 'netzero':\n",
    "                slr_data = df_slr_n[key]\n",
    "                \n",
    "                if slr_plot_net is None:\n",
    "                    slr_plot_net = get_single_slr_curve(slr_data.index.values,\n",
    "                                                        slr_data.values,\n",
    "                                                        py,\n",
    "                                                        decr)\n",
    "                else:\n",
    "                    slr_plot_net *= get_single_slr_curve(slr_data.index.values,\n",
    "                                                        slr_data.values,\n",
    "                                                        py,\n",
    "                                                        decr)\n",
    "            elif szenario == 'zeroCO2':\n",
    "                slr_data = df_slr_c[key]\n",
    "\n",
    "                if slr_plot_co2 is None:\n",
    "                    slr_plot_co2 = get_single_slr_curve(slr_data.index.values,\n",
    "                                                        slr_data.values,\n",
    "                                                        py,\n",
    "                                                        decr)\n",
    "                else:\n",
    "                    slr_plot_co2 *= get_single_slr_curve(slr_data.index.values,\n",
    "                                                        slr_data.values,\n",
    "                                                        py,\n",
    "                                                        decr)\n"
   ]
  },
  {
   "cell_type": "markdown",
   "id": "d3ef2da8",
   "metadata": {},
   "source": [
    "## cross hair of main plots"
   ]
  },
  {
   "cell_type": "code",
   "execution_count": null,
   "id": "ee67502f",
   "metadata": {},
   "outputs": [],
   "source": [
    "# dynamic plotting function for cross hair of selection\n",
    "def draw_cross_hair(year, slr):\n",
    "    return (hv.HLine(slr\n",
    "                    ).opts(color='grey',\n",
    "                           alpha=0.6,\n",
    "                           line_width=1,\n",
    "                           responsive=True) *\n",
    "            hv.VLine(year\n",
    "                    ).opts(color='grey',\n",
    "                           alpha=0.5,\n",
    "                           line_width=1,\n",
    "                           responsive=True)\n",
    "           )\n",
    "dmap_cross_hair = hv.DynamicMap(\n",
    "    pn.bind(draw_cross_hair,\n",
    "            year=select_year_slider.param.value,\n",
    "            slr=select_slr_slider.param.value)\n",
    ")"
   ]
  },
  {
   "cell_type": "markdown",
   "id": "312add9f",
   "metadata": {},
   "source": [
    "## tap selection for main plots"
   ]
  },
  {
   "cell_type": "code",
   "execution_count": null,
   "id": "a8098927",
   "metadata": {},
   "outputs": [],
   "source": [
    "stream_click_selection_slr_co2 = hv.streams.Tap(x=2100, y=150, source=slr_plot_co2)\n",
    "stream_click_selection_slr_net = hv.streams.Tap(x=2100, y=150, source=slr_plot_net)\n",
    "\n",
    "def slr_tap_fct_c(x, y):\n",
    "    select_year_slider.value = int(x)\n",
    "    select_slr_slider.value = int(y)\n",
    "    return None\n",
    "def slr_tap_fct_n(x, y):\n",
    "    select_year_slider.value = int(x)\n",
    "    select_slr_slider.value = int(y)\n",
    "    return None\n",
    "\n",
    "slr_tap_co2 = pn.bind(slr_tap_fct_c,\n",
    "                      x=stream_click_selection_slr_co2.param.x,\n",
    "                      y=stream_click_selection_slr_co2.param.y)\n",
    "slr_tap_net = pn.bind(slr_tap_fct_n,\n",
    "                      x=stream_click_selection_slr_net.param.x,\n",
    "                      y=stream_click_selection_slr_net.param.y)"
   ]
  },
  {
   "cell_type": "markdown",
   "id": "299ed53c",
   "metadata": {},
   "source": [
    "## scatter plot glacier contribution to sea level rise in x"
   ]
  },
  {
   "cell_type": "code",
   "execution_count": null,
   "id": "5312187e",
   "metadata": {},
   "outputs": [],
   "source": [
    "def get_year_plot(year_selected, scenario):\n",
    "    data = []\n",
    "    if scenario == 'netzero':\n",
    "        df_slr = df_slr_n\n",
    "    elif scenario == 'zeroCO2':\n",
    "        df_slr = df_slr_c\n",
    "    for key, value in df_slr.loc[year_selected].items():\n",
    "        s, yr, fac, de = key.split('_')\n",
    "        yr = int(yr[2:])\n",
    "        de = float(de[4:])\n",
    "        data.append([yr, value, de])\n",
    "\n",
    "    return hv.Points(data, kdims=['Year of peak emmisions', 'Sea level rise (mm)'], vdims=['dec']\n",
    "                    ).opts(color='dec',\n",
    "                           size=7,\n",
    "                           title=f'Glacier contribution to sea level rise in {year_selected:.0f}',\n",
    "                           ylim=(0, 250),\n",
    "                           responsive=True,\n",
    "                           cmap=cmap_dec,\n",
    "                           tools=['hover'])\n",
    "\n",
    "dmap_year_plot_c = hv.DynamicMap(\n",
    "    pn.bind(get_year_plot,\n",
    "            year_selected=select_year_slider.param.value,\n",
    "            scenario='zeroCO2'))\n",
    "dmap_year_plot_n = hv.DynamicMap(\n",
    "    pn.bind(get_year_plot,\n",
    "            year_selected=select_year_slider.param.value,\n",
    "            scenario='netzero'))"
   ]
  },
  {
   "cell_type": "markdown",
   "id": "c660526d",
   "metadata": {},
   "source": [
    "## scatter plot year at which glacier contribution reaches x mm"
   ]
  },
  {
   "cell_type": "code",
   "execution_count": null,
   "id": "e6d276e8",
   "metadata": {},
   "outputs": [],
   "source": [
    "def get_slr_plot(slr_limit, scenario):\n",
    "    data = []\n",
    "    if scenario == 'netzero':\n",
    "        df_slr = df_slr_n\n",
    "    elif scenario == 'zeroCO2':\n",
    "        df_slr = df_slr_c\n",
    "    for key, value in df_slr.items():\n",
    "        s, yr, fac, de = key.split('_')\n",
    "        yr = int(yr[2:])\n",
    "        de = float(de[4:])\n",
    "        if np.all(value<slr_limit):\n",
    "            year_reach = np.nan\n",
    "        else:\n",
    "            year_reach = (value<slr_limit).idxmin()\n",
    "            \n",
    "        data.append([yr, year_reach, de])\n",
    "\n",
    "    return hv.Points(data, kdims=['Year of peak emmisions', 'Year'], vdims=['dec']\n",
    "                    ).opts(color='dec',\n",
    "                           size=7,\n",
    "                           title=f'Year at which glacier contribution reaches {slr_limit:.0f} mm',\n",
    "                           ylim=(2009, 2301),\n",
    "                           responsive=True,\n",
    "                           cmap=cmap_dec,\n",
    "                           tools=['hover'])\n",
    "\n",
    "dmap_slr_plot_c = hv.DynamicMap(\n",
    "    pn.bind(get_slr_plot,\n",
    "            slr_limit=select_slr_slider.param.value,\n",
    "            scenario='zeroCO2'))\n",
    "dmap_slr_plot_n = hv.DynamicMap(\n",
    "    pn.bind(get_slr_plot,\n",
    "            slr_limit=select_slr_slider.param.value,\n",
    "            scenario='netzero'))"
   ]
  },
  {
   "cell_type": "markdown",
   "id": "544b08cb",
   "metadata": {},
   "source": [
    "# Put the App together"
   ]
  },
  {
   "cell_type": "code",
   "execution_count": null,
   "id": "79a83e44",
   "metadata": {},
   "outputs": [],
   "source": [
    "pn.Row(menu,\n",
    "       pn.Spacer(width=10),\n",
    "       pn.Column((slr_plot_co2 * dmap_cross_hair).opts(title='net-zero CO2'),\n",
    "                 dmap_year_plot_c,\n",
    "                 dmap_slr_plot_c,\n",
    "                 css_classes=['plot-box'],\n",
    "                 sizing_mode='stretch_both'),\n",
    "       pn.Spacer(width=20),\n",
    "       pn.Column((slr_plot_net * dmap_cross_hair).opts(title='net-zero GHG'),\n",
    "                 dmap_year_plot_n,\n",
    "                 dmap_slr_plot_n,\n",
    "                 css_classes=['plot-box'],\n",
    "                 sizing_mode='stretch_both'),\n",
    "       slr_tap_co2,\n",
    "       slr_tap_net,\n",
    "       sizing_mode='stretch_both'\n",
    "      ).servable()"
   ]
  },
  {
   "cell_type": "markdown",
   "id": "41a2d633",
   "metadata": {},
   "source": [
    "Replace .servable() with .show() to show the app in a new browser tab."
   ]
  }
 ],
 "metadata": {
  "kernelspec": {
   "display_name": "Python 3 (ipykernel)",
   "language": "python",
   "name": "python3"
  },
  "language_info": {
   "codemirror_mode": {
    "name": "ipython",
    "version": 3
   },
   "file_extension": ".py",
   "mimetype": "text/x-python",
   "name": "python",
   "nbconvert_exporter": "python",
   "pygments_lexer": "ipython3",
   "version": "3.8.13"
  },
  "toc": {
   "base_numbering": 1,
   "nav_menu": {},
   "number_sections": true,
   "sideBar": true,
   "skip_h1_title": false,
   "title_cell": "Table of Contents",
   "title_sidebar": "Contents",
   "toc_cell": false,
   "toc_position": {},
   "toc_section_display": true,
   "toc_window_display": false
  }
 },
 "nbformat": 4,
 "nbformat_minor": 5
}
